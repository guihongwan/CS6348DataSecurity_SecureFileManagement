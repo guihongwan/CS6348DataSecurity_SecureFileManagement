{
 "cells": [
  {
   "cell_type": "code",
   "execution_count": 1,
   "metadata": {},
   "outputs": [
    {
     "name": "stdout",
     "output_type": "stream",
     "text": [
      "Populating the interactive namespace from numpy and matplotlib\n"
     ]
    }
   ],
   "source": [
    "import matplotlib.pyplot as plt\n",
    "import numpy as np\n",
    "import pandas as pd\n",
    "import seaborn as sns\n",
    "%pylab inline"
   ]
  },
  {
   "cell_type": "code",
   "execution_count": 2,
   "metadata": {},
   "outputs": [],
   "source": [
    "def get_interested_colums(data,fieldlist):\n",
    "    return data.loc[:,fieldlist]\n"
   ]
  },
  {
   "cell_type": "code",
   "execution_count": 3,
   "metadata": {},
   "outputs": [
    {
     "data": {
      "text/html": [
       "<div>\n",
       "<style scoped>\n",
       "    .dataframe tbody tr th:only-of-type {\n",
       "        vertical-align: middle;\n",
       "    }\n",
       "\n",
       "    .dataframe tbody tr th {\n",
       "        vertical-align: top;\n",
       "    }\n",
       "\n",
       "    .dataframe thead th {\n",
       "        text-align: right;\n",
       "    }\n",
       "</style>\n",
       "<table border=\"1\" class=\"dataframe\">\n",
       "  <thead>\n",
       "    <tr style=\"text-align: right;\">\n",
       "      <th></th>\n",
       "      <th>SSN</th>\n",
       "      <th>age</th>\n",
       "      <th>workclass</th>\n",
       "      <th>fnlwgt</th>\n",
       "      <th>education</th>\n",
       "      <th>education-num</th>\n",
       "      <th>marital-status</th>\n",
       "      <th>occupation</th>\n",
       "      <th>relationship</th>\n",
       "      <th>race</th>\n",
       "      <th>sex</th>\n",
       "      <th>capital-gain</th>\n",
       "      <th>capital-loss</th>\n",
       "      <th>hours-per-week</th>\n",
       "      <th>native-country</th>\n",
       "      <th>income</th>\n",
       "    </tr>\n",
       "  </thead>\n",
       "  <tbody>\n",
       "    <tr>\n",
       "      <th>0</th>\n",
       "      <td>818866275</td>\n",
       "      <td>39</td>\n",
       "      <td>State-gov</td>\n",
       "      <td>77516</td>\n",
       "      <td>Bachelors</td>\n",
       "      <td>13</td>\n",
       "      <td>Never-married</td>\n",
       "      <td>Adm-clerical</td>\n",
       "      <td>Not-in-family</td>\n",
       "      <td>White</td>\n",
       "      <td>Male</td>\n",
       "      <td>2174</td>\n",
       "      <td>0</td>\n",
       "      <td>40</td>\n",
       "      <td>United-States</td>\n",
       "      <td>&lt;=50K</td>\n",
       "    </tr>\n",
       "    <tr>\n",
       "      <th>1</th>\n",
       "      <td>933552519</td>\n",
       "      <td>50</td>\n",
       "      <td>Self-emp-not-inc</td>\n",
       "      <td>83311</td>\n",
       "      <td>Bachelors</td>\n",
       "      <td>13</td>\n",
       "      <td>Married-civ-spouse</td>\n",
       "      <td>Exec-managerial</td>\n",
       "      <td>Husband</td>\n",
       "      <td>White</td>\n",
       "      <td>Male</td>\n",
       "      <td>0</td>\n",
       "      <td>0</td>\n",
       "      <td>13</td>\n",
       "      <td>United-States</td>\n",
       "      <td>&lt;=50K</td>\n",
       "    </tr>\n",
       "    <tr>\n",
       "      <th>2</th>\n",
       "      <td>461455484</td>\n",
       "      <td>38</td>\n",
       "      <td>Private</td>\n",
       "      <td>215646</td>\n",
       "      <td>HS-grad</td>\n",
       "      <td>9</td>\n",
       "      <td>Divorced</td>\n",
       "      <td>Handlers-cleaners</td>\n",
       "      <td>Not-in-family</td>\n",
       "      <td>White</td>\n",
       "      <td>Male</td>\n",
       "      <td>0</td>\n",
       "      <td>0</td>\n",
       "      <td>40</td>\n",
       "      <td>United-States</td>\n",
       "      <td>&lt;=50K</td>\n",
       "    </tr>\n",
       "    <tr>\n",
       "      <th>3</th>\n",
       "      <td>405579034</td>\n",
       "      <td>53</td>\n",
       "      <td>Private</td>\n",
       "      <td>234721</td>\n",
       "      <td>11th</td>\n",
       "      <td>7</td>\n",
       "      <td>Married-civ-spouse</td>\n",
       "      <td>Handlers-cleaners</td>\n",
       "      <td>Husband</td>\n",
       "      <td>Black</td>\n",
       "      <td>Male</td>\n",
       "      <td>0</td>\n",
       "      <td>0</td>\n",
       "      <td>40</td>\n",
       "      <td>United-States</td>\n",
       "      <td>&lt;=50K</td>\n",
       "    </tr>\n",
       "    <tr>\n",
       "      <th>4</th>\n",
       "      <td>219594413</td>\n",
       "      <td>28</td>\n",
       "      <td>Private</td>\n",
       "      <td>338409</td>\n",
       "      <td>Bachelors</td>\n",
       "      <td>13</td>\n",
       "      <td>Married-civ-spouse</td>\n",
       "      <td>Prof-specialty</td>\n",
       "      <td>Wife</td>\n",
       "      <td>Black</td>\n",
       "      <td>Female</td>\n",
       "      <td>0</td>\n",
       "      <td>0</td>\n",
       "      <td>40</td>\n",
       "      <td>Cuba</td>\n",
       "      <td>&lt;=50K</td>\n",
       "    </tr>\n",
       "  </tbody>\n",
       "</table>\n",
       "</div>"
      ],
      "text/plain": [
       "         SSN  age          workclass  fnlwgt   education  education-num  \\\n",
       "0  818866275   39          State-gov   77516   Bachelors             13   \n",
       "1  933552519   50   Self-emp-not-inc   83311   Bachelors             13   \n",
       "2  461455484   38            Private  215646     HS-grad              9   \n",
       "3  405579034   53            Private  234721        11th              7   \n",
       "4  219594413   28            Private  338409   Bachelors             13   \n",
       "\n",
       "        marital-status          occupation    relationship    race      sex  \\\n",
       "0        Never-married        Adm-clerical   Not-in-family   White     Male   \n",
       "1   Married-civ-spouse     Exec-managerial         Husband   White     Male   \n",
       "2             Divorced   Handlers-cleaners   Not-in-family   White     Male   \n",
       "3   Married-civ-spouse   Handlers-cleaners         Husband   Black     Male   \n",
       "4   Married-civ-spouse      Prof-specialty            Wife   Black   Female   \n",
       "\n",
       "   capital-gain  capital-loss  hours-per-week  native-country  income  \n",
       "0          2174             0              40   United-States   <=50K  \n",
       "1             0             0              13   United-States   <=50K  \n",
       "2             0             0              40   United-States   <=50K  \n",
       "3             0             0              40   United-States   <=50K  \n",
       "4             0             0              40            Cuba   <=50K  "
      ]
     },
     "execution_count": 3,
     "metadata": {},
     "output_type": "execute_result"
    }
   ],
   "source": [
    "# Load data and print out a few lines. \n",
    "\n",
    "dataset = pd.read_csv('adult_header.csv')\n",
    "dataset.head()"
   ]
  },
  {
   "cell_type": "code",
   "execution_count": 4,
   "metadata": {},
   "outputs": [
    {
     "name": "stdout",
     "output_type": "stream",
     "text": [
      "32561\n"
     ]
    },
    {
     "data": {
      "text/html": [
       "<div>\n",
       "<style scoped>\n",
       "    .dataframe tbody tr th:only-of-type {\n",
       "        vertical-align: middle;\n",
       "    }\n",
       "\n",
       "    .dataframe tbody tr th {\n",
       "        vertical-align: top;\n",
       "    }\n",
       "\n",
       "    .dataframe thead th {\n",
       "        text-align: right;\n",
       "    }\n",
       "</style>\n",
       "<table border=\"1\" class=\"dataframe\">\n",
       "  <thead>\n",
       "    <tr style=\"text-align: right;\">\n",
       "      <th></th>\n",
       "      <th>SSN</th>\n",
       "      <th>education</th>\n",
       "      <th>education-num</th>\n",
       "      <th>income</th>\n",
       "    </tr>\n",
       "  </thead>\n",
       "  <tbody>\n",
       "    <tr>\n",
       "      <th>0</th>\n",
       "      <td>818866275</td>\n",
       "      <td>Bachelors</td>\n",
       "      <td>13</td>\n",
       "      <td>&lt;=50K</td>\n",
       "    </tr>\n",
       "    <tr>\n",
       "      <th>1</th>\n",
       "      <td>933552519</td>\n",
       "      <td>Bachelors</td>\n",
       "      <td>13</td>\n",
       "      <td>&lt;=50K</td>\n",
       "    </tr>\n",
       "    <tr>\n",
       "      <th>2</th>\n",
       "      <td>461455484</td>\n",
       "      <td>HS-grad</td>\n",
       "      <td>9</td>\n",
       "      <td>&lt;=50K</td>\n",
       "    </tr>\n",
       "    <tr>\n",
       "      <th>3</th>\n",
       "      <td>405579034</td>\n",
       "      <td>11th</td>\n",
       "      <td>7</td>\n",
       "      <td>&lt;=50K</td>\n",
       "    </tr>\n",
       "    <tr>\n",
       "      <th>4</th>\n",
       "      <td>219594413</td>\n",
       "      <td>Bachelors</td>\n",
       "      <td>13</td>\n",
       "      <td>&lt;=50K</td>\n",
       "    </tr>\n",
       "  </tbody>\n",
       "</table>\n",
       "</div>"
      ],
      "text/plain": [
       "         SSN   education  education-num  income\n",
       "0  818866275   Bachelors             13   <=50K\n",
       "1  933552519   Bachelors             13   <=50K\n",
       "2  461455484     HS-grad              9   <=50K\n",
       "3  405579034        11th              7   <=50K\n",
       "4  219594413   Bachelors             13   <=50K"
      ]
     },
     "execution_count": 4,
     "metadata": {},
     "output_type": "execute_result"
    }
   ],
   "source": [
    "# only keep the columns interested in\n",
    "interested_list = ['SSN','education','education-num','income']\n",
    "\n",
    "dataset_interest = get_interested_colums(dataset, interested_list)\n",
    "total_len = len(dataset_interest)\n",
    "print(total_len)\n",
    "dataset_interest.head()"
   ]
  },
  {
   "cell_type": "code",
   "execution_count": 5,
   "metadata": {},
   "outputs": [],
   "source": [
    "# processing original data interested\n",
    "data_by_education_income = dataset_interest.groupby(['education','income'])"
   ]
  },
  {
   "cell_type": "code",
   "execution_count": 6,
   "metadata": {},
   "outputs": [
    {
     "name": "stdout",
     "output_type": "stream",
     "text": [
      "31\n"
     ]
    },
    {
     "data": {
      "text/plain": [
       "education  income\n",
       " 10th       <=50K     871\n",
       "            >50K       62\n",
       " 11th       <=50K    1115\n",
       "            >50K       60\n",
       " 12th       <=50K     400\n",
       "Name: SSN, dtype: int64"
      ]
     },
     "execution_count": 6,
     "metadata": {},
     "output_type": "execute_result"
    }
   ],
   "source": [
    "triples = data_by_education_income.count()['SSN']\n",
    "total_records = len(triples)\n",
    "print(total_records)\n",
    "triples.head()"
   ]
  },
  {
   "cell_type": "code",
   "execution_count": 7,
   "metadata": {},
   "outputs": [
    {
     "data": {
      "text/plain": [
       "Text(0,0.5,'counts')"
      ]
     },
     "execution_count": 7,
     "metadata": {},
     "output_type": "execute_result"
    },
    {
     "data": {
      "image/png": "[encoded data removed]",
      "text/plain": [
       "<matplotlib.figure.Figure at 0x1094081d0>"
      ]
     },
     "metadata": {},
     "output_type": "display_data"
    }
   ],
   "source": [
    "triples.unstack().plot(kind='bar')\n",
    "plt.title('Original: Education vs Income')\n",
    "plt.ylabel('counts')"
   ]
  },
  {
   "cell_type": "code",
   "execution_count": 8,
   "metadata": {},
   "outputs": [
    {
     "name": "stdout",
     "output_type": "stream",
     "text": [
      "31\n"
     ]
    },
    {
     "data": {
      "text/plain": [
       "Text(0,0.5,'counts')"
      ]
     },
     "execution_count": 8,
     "metadata": {},
     "output_type": "execute_result"
    },
    {
     "data": {
      "image/png": "[encoded data removed]",
      "text/plain": [
       "<matplotlib.figure.Figure at 0x1091f4e10>"
      ]
     },
     "metadata": {},
     "output_type": "display_data"
    }
   ],
   "source": [
    "# For Part2 Q3\n",
    "\n",
    "# Add laplace noise to original data interested\n",
    "# here we have ε =1.0\n",
    "\n",
    "# numpy.random.laplace(loc=0.0, scale=1.0, size=None)\n",
    "loc, size = 0., len(triples)\n",
    "GS = 1.0\n",
    "ε = 1.0 # you can change e here\n",
    "scale = GS/ε\n",
    "random_lap = np.random.laplace(loc, scale, size)\n",
    "print(len(random_lap))\n",
    "\n",
    "triples_lap = triples.add(random_lap)\n",
    "triples_lap.head()\n",
    "\n",
    "triples_lap.unstack().plot(kind='bar')\n",
    "plt.title('Laplace: Education vs Income')\n",
    "plt.ylabel('counts')"
   ]
  },
  {
   "cell_type": "code",
   "execution_count": 9,
   "metadata": {},
   "outputs": [
    {
     "data": {
      "image/png": "[encoded data removed]",
      "text/plain": [
       "<matplotlib.figure.Figure at 0x1091aba90>"
      ]
     },
     "metadata": {},
     "output_type": "display_data"
    }
   ],
   "source": [
    "#try the compare the distribution\n",
    "# It seems no differece.\n",
    "plt.title('Distribution Original VS Laplace')\n",
    "plt.xlabel('Count')\n",
    "plt.ylabel('Frequency')\n",
    "plt.hist(triples_lap, 100, alpha=0.5, normed=True, label = \"Laplace\")\n",
    "plt.hist(triples, 100, alpha=0.5, normed=True, label = \"Original\")\n",
    "plt.legend(loc='upper right')\n",
    "plt.show()"
   ]
  },
  {
   "cell_type": "code",
   "execution_count": 10,
   "metadata": {},
   "outputs": [
    {
     "name": "stdout",
     "output_type": "stream",
     "text": [
      "32561\n",
      "[ 0.1  0.2  0.3  0.4  0.5  0.6  0.7  0.8  0.9  1. ]\n"
     ]
    }
   ],
   "source": [
    "# For Part2 Q2\n",
    "print(total_len)\n",
    "ε_list = np.arange(0.1, 1.1, 0.1)\n",
    "print(ε_list)"
   ]
  },
  {
   "cell_type": "code",
   "execution_count": 11,
   "metadata": {},
   "outputs": [
    {
     "name": "stdout",
     "output_type": "stream",
     "text": [
      "10\n"
     ]
    }
   ],
   "source": [
    "errors = []\n",
    "for ε in ε_list:\n",
    "    scale = GS/ε\n",
    "    random_lap = np.random.laplace(loc, scale, size)\n",
    "    triples_lap = triples.add(random_lap)\n",
    "    diff = triples_lap - triples\n",
    "    abs_diff = abs(diff)\n",
    "    abs_diff_normal = abs_diff/total_len\n",
    "    errors.append(abs_diff_normal)\n",
    "print(len(errors))"
   ]
  },
  {
   "cell_type": "code",
   "execution_count": 12,
   "metadata": {},
   "outputs": [
    {
     "data": {
      "text/plain": [
       "Text(0,0.5,'normalized error')"
      ]
     },
     "execution_count": 12,
     "metadata": {},
     "output_type": "execute_result"
    },
    {
     "data": {
      "image/png": "[encoded data removed]",
      "text/plain": [
       "<matplotlib.figure.Figure at 0x106375ac8>"
      ]
     },
     "metadata": {},
     "output_type": "display_data"
    }
   ],
   "source": [
    "err_sum = []\n",
    "for error in errors:\n",
    "    err_sum.append(sum(error))\n",
    "plt.plot(ε_list, err_sum)\n",
    "plt.title('Laplace Error')\n",
    "plt.xlabel('ε')\n",
    "plt.ylabel('normalized error')"
   ]
  },
  {
   "cell_type": "code",
   "execution_count": 13,
   "metadata": {},
   "outputs": [],
   "source": [
    "import math"
   ]
  },
  {
   "cell_type": "code",
   "execution_count": 14,
   "metadata": {},
   "outputs": [
    {
     "data": {
      "text/plain": [
       "2.718281828459045"
      ]
     },
     "execution_count": 14,
     "metadata": {},
     "output_type": "execute_result"
    }
   ],
   "source": [
    "math.e"
   ]
  },
  {
   "cell_type": "code",
   "execution_count": 20,
   "metadata": {},
   "outputs": [
    {
     "data": {
      "text/plain": [
       "[<matplotlib.lines.Line2D at 0x1a163978d0>]"
      ]
     },
     "execution_count": 20,
     "metadata": {},
     "output_type": "execute_result"
    },
    {
     "data": {
      "image/png": "[encoded data removed]",
      "text/plain": [
       "<matplotlib.figure.Figure at 0x1a0caa12e8>"
      ]
     },
     "metadata": {},
     "output_type": "display_data"
    }
   ],
   "source": [
    "ε_list = np.arange(0.1, 1.1, 0.1)\n",
    "a_list = []\n",
    "for ε in ε_list:\n",
    "    a = math.e**ε\n",
    "    a_list.append(a)\n",
    "plt.plot(ε_list, a_list)"
   ]
  },
  {
   "cell_type": "code",
   "execution_count": 51,
   "metadata": {},
   "outputs": [],
   "source": [
    "\n",
    "#scale = GS/ε\n",
    "scale = 1\n",
    "random_lap = np.random.laplace(0, scale, 1000)"
   ]
  },
  {
   "cell_type": "code",
   "execution_count": 52,
   "metadata": {},
   "outputs": [
    {
     "data": {
      "text/plain": [
       "(array([  6.69563520e-05,   0.00000000e+00,   0.00000000e+00,\n",
       "          0.00000000e+00,   0.00000000e+00,   0.00000000e+00,\n",
       "          0.00000000e+00,   0.00000000e+00,   6.69563520e-05,\n",
       "          0.00000000e+00,   0.00000000e+00,   6.69563520e-05,\n",
       "          6.69563520e-05,   1.33912704e-04,   6.69563520e-05,\n",
       "          6.69563520e-05,   0.00000000e+00,   2.67825408e-04,\n",
       "          0.00000000e+00,   0.00000000e+00,   6.69563520e-05,\n",
       "          1.33912704e-04,   4.68694464e-04,   2.00869056e-04,\n",
       "          1.33912704e-04,   6.69563520e-05,   4.01738112e-04,\n",
       "          4.68694464e-04,   4.68694464e-04,   5.35650816e-04,\n",
       "          6.02607168e-04,   6.69563520e-04,   6.69563520e-04,\n",
       "          2.00869056e-03,   1.40608339e-03,   1.40608339e-03,\n",
       "          1.80782150e-03,   2.07564691e-03,   1.94173421e-03,\n",
       "          2.94607949e-03,   3.48173031e-03,   3.61564301e-03,\n",
       "          4.61998829e-03,   4.55303194e-03,   5.08868275e-03,\n",
       "          4.41911923e-03,   3.28086125e-03,   2.94607949e-03,\n",
       "          2.14260326e-03,   1.67390880e-03,   2.14260326e-03,\n",
       "          1.27217069e-03,   1.07130163e-03,   1.20521434e-03,\n",
       "          1.00434528e-03,   6.69563520e-04,   6.69563520e-04,\n",
       "          4.68694464e-04,   6.69563520e-04,   2.67825408e-04,\n",
       "          4.68694464e-04,   3.34781760e-04,   2.00869056e-04,\n",
       "          6.69563520e-05,   2.00869056e-04,   2.00869056e-04,\n",
       "          2.67825408e-04,   6.69563520e-05,   0.00000000e+00,\n",
       "          0.00000000e+00,   0.00000000e+00,   0.00000000e+00,\n",
       "          6.69563520e-05,   0.00000000e+00,   2.00869056e-04,\n",
       "          0.00000000e+00,   0.00000000e+00,   0.00000000e+00,\n",
       "          0.00000000e+00,   2.00869056e-04,   6.69563520e-05,\n",
       "          0.00000000e+00,   0.00000000e+00,   0.00000000e+00,\n",
       "          0.00000000e+00,   0.00000000e+00,   0.00000000e+00,\n",
       "          0.00000000e+00,   0.00000000e+00,   0.00000000e+00,\n",
       "          0.00000000e+00,   0.00000000e+00,   0.00000000e+00,\n",
       "          0.00000000e+00,   0.00000000e+00,   0.00000000e+00,\n",
       "          0.00000000e+00,   0.00000000e+00,   0.00000000e+00,\n",
       "          6.69563520e-05]),\n",
       " array([-652.30368082, -637.36857803, -622.43347524, -607.49837244,\n",
       "        -592.56326965, -577.62816686, -562.69306407, -547.75796128,\n",
       "        -532.82285849, -517.88775569, -502.9526529 , -488.01755011,\n",
       "        -473.08244732, -458.14734453, -443.21224174, -428.27713894,\n",
       "        -413.34203615, -398.40693336, -383.47183057, -368.53672778,\n",
       "        -353.60162499, -338.66652219, -323.7314194 , -308.79631661,\n",
       "        -293.86121382, -278.92611103, -263.99100824, -249.05590544,\n",
       "        -234.12080265, -219.18569986, -204.25059707, -189.31549428,\n",
       "        -174.38039149, -159.44528869, -144.5101859 , -129.57508311,\n",
       "        -114.63998032,  -99.70487753,  -84.76977474,  -69.83467194,\n",
       "         -54.89956915,  -39.96446636,  -25.02936357,  -10.09426078,\n",
       "           4.84084201,   19.77594481,   34.7110476 ,   49.64615039,\n",
       "          64.58125318,   79.51635597,   94.45145876,  109.38656155,\n",
       "         124.32166435,  139.25676714,  154.19186993,  169.12697272,\n",
       "         184.06207551,  198.9971783 ,  213.9322811 ,  228.86738389,\n",
       "         243.80248668,  258.73758947,  273.67269226,  288.60779505,\n",
       "         303.54289785,  318.47800064,  333.41310343,  348.34820622,\n",
       "         363.28330901,  378.2184118 ,  393.1535146 ,  408.08861739,\n",
       "         423.02372018,  437.95882297,  452.89392576,  467.82902855,\n",
       "         482.76413135,  497.69923414,  512.63433693,  527.56943972,\n",
       "         542.50454251,  557.4396453 ,  572.3747481 ,  587.30985089,\n",
       "         602.24495368,  617.18005647,  632.11515926,  647.05026205,\n",
       "         661.98536485,  676.92046764,  691.85557043,  706.79067322,\n",
       "         721.72577601,  736.6608788 ,  751.5959816 ,  766.53108439,\n",
       "         781.46618718,  796.40128997,  811.33639276,  826.27149555,\n",
       "         841.20659835]),\n",
       " <a list of 100 Patch objects>)"
      ]
     },
     "execution_count": 52,
     "metadata": {},
     "output_type": "execute_result"
    },
    {
     "data": {
      "image/png": "[encoded data removed]",
      "text/plain": [
       "<matplotlib.figure.Figure at 0x1a17afc588>"
      ]
     },
     "metadata": {},
     "output_type": "display_data"
    }
   ],
   "source": [
    "plt.hist(random_lap, 100, normed=True)"
   ]
  },
  {
   "cell_type": "code",
   "execution_count": null,
   "metadata": {},
   "outputs": [],
   "source": []
  },
  {
   "cell_type": "code",
   "execution_count": null,
   "metadata": {},
   "outputs": [],
   "source": []
  }
 ],
 "metadata": {
  "kernelspec": {
   "display_name": "Python 3",
   "language": "python",
   "name": "python3"
  },
  "language_info": {
   "codemirror_mode": {
    "name": "ipython",
    "version": 3
   },
   "file_extension": ".py",
   "mimetype": "text/x-python",
   "name": "python",
   "nbconvert_exporter": "python",
   "pygments_lexer": "ipython3",
   "version": "3.6.4"
  },
  "toc": {
   "colors": {
    "hover_highlight": "#DAA520",
    "navigate_num": "#000000",
    "navigate_text": "#333333",
    "running_highlight": "#FF0000",
    "selected_highlight": "#FFD700",
    "sidebar_border": "#EEEEEE",
    "wrapper_background": "#FFFFFF"
   },
   "moveMenuLeft": true,
   "nav_menu": {
    "height": "12px",
    "width": "252px"
   },
   "navigate_menu": true,
   "number_sections": true,
   "sideBar": true,
   "threshold": 4,
   "toc_cell": false,
   "toc_section_display": "block",
   "toc_window_display": false,
   "widenNotebook": false
  }
 },
 "nbformat": 4,
 "nbformat_minor": 2
}
